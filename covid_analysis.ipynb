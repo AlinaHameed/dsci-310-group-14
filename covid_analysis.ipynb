{
 "cells": [
  {
   "cell_type": "markdown",
   "metadata": {},
   "source": [
    "# Group 14 Analysis\n",
    "Milestone 1"
   ]
  },
  {
   "cell_type": "markdown",
   "metadata": {},
   "source": [
    "## Summary\n"
   ]
  },
  {
   "cell_type": "markdown",
   "metadata": {},
   "source": [
    "## Introduction:\n",
    "- provide some relevant background information on the topic so that someone unfamiliar with it will be prepared to understand the rest of your report.\n",
    "- clearly state the question you tried to answer with your project\n",
    "- identify and describe the dataset that was used to answer the question\n"
   ]
  },
  {
   "cell_type": "markdown",
   "metadata": {},
   "source": [
    "## Methods & Results:\n",
    "- describe in written english the methods you used to perform your analysis from beginning to end that narrates the code the does the analysis.\n",
    "- your report should include code which:\n",
    "    - loads data from the original source on the web\n",
    "    - wrangles and cleans the data from it’s original (downloaded) format to the format necessary for the planned classification or clustering analysis\n",
    "    - performs a summary of the data set that is relevant for exploratory data analysis related to the planned classification analysis\n",
    "    - creates a visualization of the dataset that is relevant for exploratory data analysis related to the planned classification analysis\n",
    "    - performs classification or regression analysis\n",
    "    - reates a visualization of the result of the analysis\n",
    "note: all tables and figure should have a figure/table number and a legend\n"
   ]
  },
  {
   "cell_type": "code",
   "execution_count": 12,
   "metadata": {
    "vscode": {
     "languageId": "r"
    }
   },
   "outputs": [
    {
     "name": "stderr",
     "output_type": "stream",
     "text": [
      "Warning message:\n",
      "\"package 'GGally' is in use and will not be installed\"\n",
      "Warning message:\n",
      "\"package 'knitr' is in use and will not be installed\"\n",
      "Warning message:\n",
      "\"package 'tidymodels' is in use and will not be installed\"\n",
      "Warning message:\n",
      "\"package 'leaps' is in use and will not be installed\"\n",
      "Warning message:\n",
      "\"package 'mltools' is in use and will not be installed\"\n"
     ]
    }
   ],
   "source": [
    "library(tidyverse)\n",
    "install.packages(\"GGally\")\n",
    "library(GGally)\n",
    "library(purrr)\n",
    "install.packages(\"knitr\")\n",
    "library(knitr)\n",
    "install.packages(\"tidymodels\")\n",
    "library(\"tidymodels\")\n",
    "install.packages(\"leaps\")\n",
    "library(leaps)\n",
    "install.packages(\"mltools\")\n",
    "library(mltools)\n",
    "set.seed(310)\n"
   ]
  },
  {
   "cell_type": "code",
   "execution_count": null,
   "metadata": {},
   "outputs": [],
   "source": [
    "install.packages(\"leaps\")"
   ]
  },
  {
   "cell_type": "code",
   "execution_count": 3,
   "metadata": {
    "vscode": {
     "languageId": "r"
    }
   },
   "outputs": [
    {
     "name": "stderr",
     "output_type": "stream",
     "text": [
      "\u001b[1mRows: \u001b[22m\u001b[34m991\u001b[39m \u001b[1mColumns: \u001b[22m\u001b[34m564\u001b[39m\n",
      "\u001b[36m──\u001b[39m \u001b[1mColumn specification\u001b[22m \u001b[36m────────────────────────────────────────────────────────────────────────────────────────────────────────────────────────────────────────────────\u001b[39m\n",
      "\u001b[1mDelimiter:\u001b[22m \",\"\n",
      "\u001b[31mchr\u001b[39m   (16): location_key, place_id, wikidata_id, datacommons_id, country_cod...\n",
      "\u001b[32mdbl\u001b[39m  (547): aggregation_level, new_confirmed, new_deceased, new_tested, cumu...\n",
      "\u001b[34mdate\u001b[39m   (1): date\n",
      "\n",
      "\u001b[36mℹ\u001b[39m Use `spec()` to retrieve the full column specification for this data.\n",
      "\u001b[36mℹ\u001b[39m Specify the column types or set `show_col_types = FALSE` to quiet this message.\n"
     ]
    }
   ],
   "source": [
    "us_covid <- read_csv(\"data/US.csv\")"
   ]
  },
  {
   "cell_type": "code",
   "execution_count": 4,
   "metadata": {
    "scrolled": true
   },
   "outputs": [
    {
     "data": {
      "text/html": [
       "<table class=\"dataframe\">\n",
       "<caption>A tibble: 6 × 6</caption>\n",
       "<thead>\n",
       "\t<tr><th scope=col>date</th><th scope=col>search_trends_anxiety</th><th scope=col>new_persons_vaccinated</th><th scope=col>new_hospitalized_patients</th><th scope=col>new_confirmed</th><th scope=col>new_intensive_care_patients</th></tr>\n",
       "\t<tr><th scope=col>&lt;date&gt;</th><th scope=col>&lt;dbl&gt;</th><th scope=col>&lt;dbl&gt;</th><th scope=col>&lt;dbl&gt;</th><th scope=col>&lt;dbl&gt;</th><th scope=col>&lt;dbl&gt;</th></tr>\n",
       "</thead>\n",
       "<tbody>\n",
       "\t<tr><td>2020-12-13</td><td>8.49</td><td> 30635</td><td>13404</td><td>177830</td><td> 75</td></tr>\n",
       "\t<tr><td>2020-12-14</td><td>8.93</td><td>  4534</td><td>13547</td><td>195630</td><td>199</td></tr>\n",
       "\t<tr><td>2020-12-15</td><td>8.34</td><td> 45854</td><td>16191</td><td>197440</td><td>265</td></tr>\n",
       "\t<tr><td>2020-12-16</td><td>7.92</td><td>154789</td><td>15571</td><td>237037</td><td>279</td></tr>\n",
       "\t<tr><td>2020-12-17</td><td>7.70</td><td>266820</td><td>15247</td><td>242528</td><td>248</td></tr>\n",
       "\t<tr><td>2020-12-18</td><td>7.08</td><td>409914</td><td>15269</td><td>233736</td><td>231</td></tr>\n",
       "</tbody>\n",
       "</table>\n"
      ],
      "text/latex": [
       "A tibble: 6 × 6\n",
       "\\begin{tabular}{llllll}\n",
       " date & search\\_trends\\_anxiety & new\\_persons\\_vaccinated & new\\_hospitalized\\_patients & new\\_confirmed & new\\_intensive\\_care\\_patients\\\\\n",
       " <date> & <dbl> & <dbl> & <dbl> & <dbl> & <dbl>\\\\\n",
       "\\hline\n",
       "\t 2020-12-13 & 8.49 &  30635 & 13404 & 177830 &  75\\\\\n",
       "\t 2020-12-14 & 8.93 &   4534 & 13547 & 195630 & 199\\\\\n",
       "\t 2020-12-15 & 8.34 &  45854 & 16191 & 197440 & 265\\\\\n",
       "\t 2020-12-16 & 7.92 & 154789 & 15571 & 237037 & 279\\\\\n",
       "\t 2020-12-17 & 7.70 & 266820 & 15247 & 242528 & 248\\\\\n",
       "\t 2020-12-18 & 7.08 & 409914 & 15269 & 233736 & 231\\\\\n",
       "\\end{tabular}\n"
      ],
      "text/markdown": [
       "\n",
       "A tibble: 6 × 6\n",
       "\n",
       "| date &lt;date&gt; | search_trends_anxiety &lt;dbl&gt; | new_persons_vaccinated &lt;dbl&gt; | new_hospitalized_patients &lt;dbl&gt; | new_confirmed &lt;dbl&gt; | new_intensive_care_patients &lt;dbl&gt; |\n",
       "|---|---|---|---|---|---|\n",
       "| 2020-12-13 | 8.49 |  30635 | 13404 | 177830 |  75 |\n",
       "| 2020-12-14 | 8.93 |   4534 | 13547 | 195630 | 199 |\n",
       "| 2020-12-15 | 8.34 |  45854 | 16191 | 197440 | 265 |\n",
       "| 2020-12-16 | 7.92 | 154789 | 15571 | 237037 | 279 |\n",
       "| 2020-12-17 | 7.70 | 266820 | 15247 | 242528 | 248 |\n",
       "| 2020-12-18 | 7.08 | 409914 | 15269 | 233736 | 231 |\n",
       "\n"
      ],
      "text/plain": [
       "  date       search_trends_anxiety new_persons_vaccinated\n",
       "1 2020-12-13 8.49                   30635                \n",
       "2 2020-12-14 8.93                    4534                \n",
       "3 2020-12-15 8.34                   45854                \n",
       "4 2020-12-16 7.92                  154789                \n",
       "5 2020-12-17 7.70                  266820                \n",
       "6 2020-12-18 7.08                  409914                \n",
       "  new_hospitalized_patients new_confirmed new_intensive_care_patients\n",
       "1 13404                     177830         75                        \n",
       "2 13547                     195630        199                        \n",
       "3 16191                     197440        265                        \n",
       "4 15571                     237037        279                        \n",
       "5 15247                     242528        248                        \n",
       "6 15269                     233736        231                        "
      ]
     },
     "metadata": {},
     "output_type": "display_data"
    }
   ],
   "source": [
    "# select only the necessary columns from the dataframe\n",
    "us_selected <- us_covid |>\n",
    "  select(date, search_trends_anxiety, new_persons_vaccinated, new_hospitalized_patients,\n",
    "         new_confirmed, new_intensive_care_patients) |>\n",
    "  drop_na()\n",
    "\n",
    "#inspect first rows of data\n",
    "head(us_selected)"
   ]
  },
  {
   "cell_type": "code",
   "execution_count": 9,
   "metadata": {},
   "outputs": [],
   "source": [
    "# summarise all numeric values with 5 number summary + mean\n",
    "covid_summary <- us_selected %>%\n",
    "  summarise(across(where(is.numeric), list(\n",
    "    Min = min,\n",
    "    Q1 = ~quantile(.x, 0.25),\n",
    "    Mean = mean,\n",
    "    Median = median,\n",
    "    Q3 = ~quantile(.x, 0.75),\n",
    "    Max = max\n",
    "  ), .names = \"{.col}_{.fn}\")) %>%\n",
    "  pivot_longer(cols = everything(), names_to = c(\"Variable\", \"Statistic\"), names_sep = \"_(?=[^_]+$)\") %>%\n",
    "  pivot_wider(names_from = Statistic, values_from = value)\n",
    "\n",
    "# summarise all date values with 5 number summary + mean by converting to numernic and then convert back\n",
    "dates_day<- as.numeric(us_selected$date)\n",
    "date_summary <- tibble(Variable = c(\"date\"),\n",
    "                      Min = min(dates_day),\n",
    "                      Q1 = quantile(dates_day, 0.25),\n",
    "                      Mean = mean(dates_day),\n",
    "                      Median = median(dates_day),\n",
    "                      Q3 = quantile(dates_day, 0.75),\n",
    "                      Max = max(dates_day)\n",
    "                      )|>\n",
    "mutate(across(where(is.numeric), as_date))\n",
    "\n",
    "table_summary <- rbind(covid_summary,date_summary)\n",
    "\n",
    "#Count missing values from original dataset\n",
    "us_missing <- us_covid |>\n",
    "  select(search_trends_anxiety, new_persons_vaccinated, new_hospitalized_patients,\n",
    "         new_confirmed, new_intensive_care_patients,date)\n",
    "\n",
    "us_missing_counts <- tibble(Variable = table_summary$Variable,\n",
    "                            Observations = colSums(!is.na(us_selected)),\n",
    "                            Missing = colSums(is.na(us_missing)))\n",
    "\n",
    "#combine together all summary data\n",
    "table_summary_final <- inner_join(table_summary, us_missing_counts, by = \"Variable\")"
   ]
  },
  {
   "cell_type": "code",
   "execution_count": 14,
   "metadata": {
    "scrolled": true
   },
   "outputs": [],
   "source": [
    "# print the table in a format ready for markdown\n",
    "# commented out and pasted into markdown cell below\n",
    "# kable(table_summary_final)"
   ]
  },
  {
   "cell_type": "markdown",
   "metadata": {},
   "source": [
    "<h4>Table 1 : Summary statistics of the selected variables</h4>"
   ]
  },
  {
   "cell_type": "markdown",
   "metadata": {},
   "source": [
    "|Variable                    |     Min|        Q1|         Mean|    Median|         Q3|       Max| Observations| Missing|\n",
    "|:---------------------------|-------:|---------:|------------:|---------:|----------:|---------:|------------:|-------:|\n",
    "|search_trends_anxiety       |     5.5|      7.17| 7.736588e+00|      7.79|       8.29|      10.9|           85|       5|\n",
    "|new_persons_vaccinated      |  4534.0| 371081.00| 7.822666e+05| 798390.00| 1157564.00| 2005480.0|           85|     350|\n",
    "|new_hospitalized_patients   |  4332.0|   7275.00| 1.159166e+04|  12988.00|   15247.00|   18104.0|           85|      14|\n",
    "|new_confirmed               | 39828.0|  69225.00| 1.443094e+05| 147277.00|  200308.00|  286196.0|           85|       3|\n",
    "|new_intensive_care_patients |    22.0|     84.00| 1.418353e+02|    141.00|     186.00|     279.0|           85|     572|\n",
    "|date                        | 18609.0|  18630.00| 1.865100e+04|  18651.00|   18672.00|   18693.0|           85|       0|"
   ]
  },
  {
   "cell_type": "code",
   "execution_count": 16,
   "metadata": {
    "scrolled": true
   },
   "outputs": [
    {
     "data": {
      "image/png": "[encoded data removed]",
      "text/plain": [
       "plot without title"
      ]
     },
     "metadata": {
      "image/png": {
       "height": 420,
       "width": 420
      }
     },
     "output_type": "display_data"
    }
   ],
   "source": [
    "ggpairs(us_selected, aes(alpha = 0.5)) +\n",
    "    theme(text = element_text(size = 8))"
   ]
  },
  {
   "cell_type": "markdown",
   "metadata": {},
   "source": [
    "<h4>Figure 1. Exploratory Analysis of Predictors and their Distribution</h4>"
   ]
  },
  {
   "cell_type": "code",
   "execution_count": 17,
   "metadata": {},
   "outputs": [
    {
     "name": "stderr",
     "output_type": "stream",
     "text": [
      "Warning message:\n",
      "\"\u001b[1m\u001b[22mRemoved 5 rows containing missing values or values outside the scale range (`geom_line()`).\"\n"
     ]
    },
    {
     "data": {
      "image/png": "[encoded data removed]",
      "text/plain": [
       "plot without title"
      ]
     },
     "metadata": {
      "image/png": {
       "height": 420,
       "width": 420
      }
     },
     "output_type": "display_data"
    }
   ],
   "source": [
    "anxiety_time_plot <- ggplot(us_covid, aes(y=search_trends_anxiety, x= date )) +\n",
    "  geom_line(color = \"cornflower blue\")+\n",
    "  labs(title = \"Google Searches Regarding Anxiety over Time\",\n",
    "       x = \"Date\",\n",
    "       y = \"Number of Searches per 1000 people\")\n",
    "\n",
    "anxiety_time_plot"
   ]
  },
  {
   "cell_type": "markdown",
   "metadata": {},
   "source": [
    "<h4>Figure 2: Time Series plot of the Response Variable</h4>"
   ]
  },
  {
   "cell_type": "markdown",
   "metadata": {},
   "source": [
    "<h2>Picking the best features:</h2>"
   ]
  },
  {
   "cell_type": "code",
   "execution_count": 29,
   "metadata": {},
   "outputs": [],
   "source": [
    "# splitting the data:\n",
    "covid_split <- initial_split(us_selected, prop = 0.75, strata = search_trends_anxiety)\n",
    "covid_train <- training(covid_split)\n",
    "covid_test <- testing(covid_split)\n",
    "\n",
    "# make dates into number of days  \n",
    "covid_train_numeric <- covid_train|> \n",
    "  mutate(date = as.numeric(date))\n",
    "\n",
    "covid_backward_sel <- regsubsets(\n",
    "  x = search_trends_anxiety ~ new_persons_vaccinated + \n",
    "    new_hospitalized_patients +\n",
    "    new_confirmed +\n",
    "    new_intensive_care_patients +\n",
    "    date, \n",
    "  nvmax = 5,\n",
    "  data = covid_train_numeric,\n",
    "  method = \"backward\",\n",
    ")\n"
   ]
  },
  {
   "cell_type": "code",
   "execution_count": 30,
   "metadata": {},
   "outputs": [
    {
     "data": {
      "text/html": [
       "<table class=\"dataframe\">\n",
       "<caption>A data.frame: 5 × 4</caption>\n",
       "<thead>\n",
       "\t<tr><th scope=col>n_input_variables</th><th scope=col>RSQ</th><th scope=col>RSS</th><th scope=col>ADJ.R2</th></tr>\n",
       "\t<tr><th scope=col>&lt;int&gt;</th><th scope=col>&lt;dbl&gt;</th><th scope=col>&lt;dbl&gt;</th><th scope=col>&lt;dbl&gt;</th></tr>\n",
       "</thead>\n",
       "<tbody>\n",
       "\t<tr><td>1</td><td>0.3527753</td><td>28.22384</td><td>0.3418054</td></tr>\n",
       "\t<tr><td>2</td><td>0.4019704</td><td>26.07857</td><td>0.3813487</td></tr>\n",
       "\t<tr><td>3</td><td>0.4355578</td><td>24.61391</td><td>0.4058504</td></tr>\n",
       "\t<tr><td>4</td><td>0.4390176</td><td>24.46304</td><td>0.3989474</td></tr>\n",
       "\t<tr><td>5</td><td>0.4399373</td><td>24.42293</td><td>0.3890225</td></tr>\n",
       "</tbody>\n",
       "</table>\n"
      ],
      "text/latex": [
       "A data.frame: 5 × 4\n",
       "\\begin{tabular}{llll}\n",
       " n\\_input\\_variables & RSQ & RSS & ADJ.R2\\\\\n",
       " <int> & <dbl> & <dbl> & <dbl>\\\\\n",
       "\\hline\n",
       "\t 1 & 0.3527753 & 28.22384 & 0.3418054\\\\\n",
       "\t 2 & 0.4019704 & 26.07857 & 0.3813487\\\\\n",
       "\t 3 & 0.4355578 & 24.61391 & 0.4058504\\\\\n",
       "\t 4 & 0.4390176 & 24.46304 & 0.3989474\\\\\n",
       "\t 5 & 0.4399373 & 24.42293 & 0.3890225\\\\\n",
       "\\end{tabular}\n"
      ],
      "text/markdown": [
       "\n",
       "A data.frame: 5 × 4\n",
       "\n",
       "| n_input_variables &lt;int&gt; | RSQ &lt;dbl&gt; | RSS &lt;dbl&gt; | ADJ.R2 &lt;dbl&gt; |\n",
       "|---|---|---|---|\n",
       "| 1 | 0.3527753 | 28.22384 | 0.3418054 |\n",
       "| 2 | 0.4019704 | 26.07857 | 0.3813487 |\n",
       "| 3 | 0.4355578 | 24.61391 | 0.4058504 |\n",
       "| 4 | 0.4390176 | 24.46304 | 0.3989474 |\n",
       "| 5 | 0.4399373 | 24.42293 | 0.3890225 |\n",
       "\n"
      ],
      "text/plain": [
       "  n_input_variables RSQ       RSS      ADJ.R2   \n",
       "1 1                 0.3527753 28.22384 0.3418054\n",
       "2 2                 0.4019704 26.07857 0.3813487\n",
       "3 3                 0.4355578 24.61391 0.4058504\n",
       "4 4                 0.4390176 24.46304 0.3989474\n",
       "5 5                 0.4399373 24.42293 0.3890225"
      ]
     },
     "metadata": {},
     "output_type": "display_data"
    }
   ],
   "source": [
    "# summary of each model's performance\n",
    "\n",
    "covid_backward_sel_summary <- summary(covid_backward_sel)\n",
    "\n",
    "covid_backward_sel_summary_df <- data.frame(\n",
    "  n_input_variables = 1:5,\n",
    "  RSQ = covid_backward_sel_summary$rsq, \n",
    "  RSS = covid_backward_sel_summary$rss,\n",
    "  ADJ.R2 = covid_backward_sel_summary$adjr2\n",
    ")\n",
    "\n",
    "covid_backward_sel_summary_df"
   ]
  },
  {
   "cell_type": "markdown",
   "metadata": {},
   "source": [
    "<h4>Table 2: RSQ, RSS, and Adjusted R^2 of each model with the number of features used</h4>"
   ]
  },
  {
   "cell_type": "code",
   "execution_count": 42,
   "metadata": {},
   "outputs": [
    {
     "data": {
      "text/html": [
       "<strong>$which</strong> = <table class=\"dataframe\">\n",
       "<caption>A matrix: 5 × 6 of type lgl</caption>\n",
       "<thead>\n",
       "\t<tr><th></th><th scope=col>(Intercept)</th><th scope=col>new_persons_vaccinated</th><th scope=col>new_hospitalized_patients</th><th scope=col>new_confirmed</th><th scope=col>new_intensive_care_patients</th><th scope=col>date</th></tr>\n",
       "</thead>\n",
       "<tbody>\n",
       "\t<tr><th scope=row>1</th><td>TRUE</td><td>TRUE</td><td>FALSE</td><td>FALSE</td><td>FALSE</td><td>FALSE</td></tr>\n",
       "\t<tr><th scope=row>2</th><td>TRUE</td><td>TRUE</td><td> TRUE</td><td>FALSE</td><td>FALSE</td><td>FALSE</td></tr>\n",
       "\t<tr><th scope=row>3</th><td>TRUE</td><td>TRUE</td><td> TRUE</td><td>FALSE</td><td> TRUE</td><td>FALSE</td></tr>\n",
       "\t<tr><th scope=row>4</th><td>TRUE</td><td>TRUE</td><td> TRUE</td><td> TRUE</td><td> TRUE</td><td>FALSE</td></tr>\n",
       "\t<tr><th scope=row>5</th><td>TRUE</td><td>TRUE</td><td> TRUE</td><td> TRUE</td><td> TRUE</td><td> TRUE</td></tr>\n",
       "</tbody>\n",
       "</table>\n"
      ],
      "text/latex": [
       "\\textbf{\\$which} = A matrix: 5 × 6 of type lgl\n",
       "\\begin{tabular}{r|llllll}\n",
       "  & (Intercept) & new\\_persons\\_vaccinated & new\\_hospitalized\\_patients & new\\_confirmed & new\\_intensive\\_care\\_patients & date\\\\\n",
       "\\hline\n",
       "\t1 & TRUE & TRUE & FALSE & FALSE & FALSE & FALSE\\\\\n",
       "\t2 & TRUE & TRUE &  TRUE & FALSE & FALSE & FALSE\\\\\n",
       "\t3 & TRUE & TRUE &  TRUE & FALSE &  TRUE & FALSE\\\\\n",
       "\t4 & TRUE & TRUE &  TRUE &  TRUE &  TRUE & FALSE\\\\\n",
       "\t5 & TRUE & TRUE &  TRUE &  TRUE &  TRUE &  TRUE\\\\\n",
       "\\end{tabular}\n"
      ],
      "text/markdown": [
       "**$which** = \n",
       "A matrix: 5 × 6 of type lgl\n",
       "\n",
       "| <!--/--> | (Intercept) | new_persons_vaccinated | new_hospitalized_patients | new_confirmed | new_intensive_care_patients | date |\n",
       "|---|---|---|---|---|---|---|\n",
       "| 1 | TRUE | TRUE | FALSE | FALSE | FALSE | FALSE |\n",
       "| 2 | TRUE | TRUE |  TRUE | FALSE | FALSE | FALSE |\n",
       "| 3 | TRUE | TRUE |  TRUE | FALSE |  TRUE | FALSE |\n",
       "| 4 | TRUE | TRUE |  TRUE |  TRUE |  TRUE | FALSE |\n",
       "| 5 | TRUE | TRUE |  TRUE |  TRUE |  TRUE |  TRUE |\n",
       "\n"
      ],
      "text/plain": [
       "$which\n",
       "  (Intercept) new_persons_vaccinated new_hospitalized_patients new_confirmed\n",
       "1        TRUE                   TRUE                     FALSE         FALSE\n",
       "2        TRUE                   TRUE                      TRUE         FALSE\n",
       "3        TRUE                   TRUE                      TRUE         FALSE\n",
       "4        TRUE                   TRUE                      TRUE          TRUE\n",
       "5        TRUE                   TRUE                      TRUE          TRUE\n",
       "  new_intensive_care_patients  date\n",
       "1                       FALSE FALSE\n",
       "2                       FALSE FALSE\n",
       "3                        TRUE FALSE\n",
       "4                        TRUE FALSE\n",
       "5                        TRUE  TRUE\n"
      ]
     },
     "metadata": {},
     "output_type": "display_data"
    }
   ],
   "source": [
    "# show which variables make up each of the tested models\n",
    "covid_backward_sel_summary[1]"
   ]
  },
  {
   "cell_type": "markdown",
   "metadata": {},
   "source": [
    "<h4>Table 3: The features used in each model tested</h4>"
   ]
  },
  {
   "cell_type": "markdown",
   "metadata": {},
   "source": [
    "To find the best features to use to predict the google searches for Anxiety, we used backward selection to pick the set of features that would produce the best adjusted R^2 value and therefore give us the model that explained our data the best.  As seen in Table 2, a model with 3 features provides the highest adjusted R^2 value at 0.315. This model is made of the variables new_persons_vaccinated, new_hospitalized_patients, and date."
   ]
  },
  {
   "cell_type": "markdown",
   "metadata": {},
   "source": [
    "<h2>Creating the final model</h2>"
   ]
  },
  {
   "cell_type": "code",
   "execution_count": 43,
   "metadata": {},
   "outputs": [
    {
     "data": {
      "text/html": [
       "<table class=\"dataframe\">\n",
       "<caption>A tibble: 4 × 5</caption>\n",
       "<thead>\n",
       "\t<tr><th scope=col>term</th><th scope=col>estimate</th><th scope=col>std.error</th><th scope=col>statistic</th><th scope=col>p.value</th></tr>\n",
       "\t<tr><th scope=col>&lt;chr&gt;</th><th scope=col>&lt;dbl&gt;</th><th scope=col>&lt;dbl&gt;</th><th scope=col>&lt;dbl&gt;</th><th scope=col>&lt;dbl&gt;</th></tr>\n",
       "</thead>\n",
       "<tbody>\n",
       "\t<tr><td>(Intercept)              </td><td> 1.595603e+02</td><td>2.203093e+02</td><td> 0.7242556</td><td>0.4718711741</td></tr>\n",
       "\t<tr><td>new_persons_vaccinated   </td><td> 9.583246e-07</td><td>2.543659e-07</td><td> 3.7675050</td><td>0.0003928682</td></tr>\n",
       "\t<tr><td>new_hospitalized_patients</td><td>-8.991253e-05</td><td>6.074056e-05</td><td>-1.4802715</td><td>0.1443072501</td></tr>\n",
       "\t<tr><td>date                     </td><td>-8.125315e-03</td><td>1.178454e-02</td><td>-0.6894894</td><td>0.4933128160</td></tr>\n",
       "</tbody>\n",
       "</table>\n"
      ],
      "text/latex": [
       "A tibble: 4 × 5\n",
       "\\begin{tabular}{lllll}\n",
       " term & estimate & std.error & statistic & p.value\\\\\n",
       " <chr> & <dbl> & <dbl> & <dbl> & <dbl>\\\\\n",
       "\\hline\n",
       "\t (Intercept)               &  1.595603e+02 & 2.203093e+02 &  0.7242556 & 0.4718711741\\\\\n",
       "\t new\\_persons\\_vaccinated    &  9.583246e-07 & 2.543659e-07 &  3.7675050 & 0.0003928682\\\\\n",
       "\t new\\_hospitalized\\_patients & -8.991253e-05 & 6.074056e-05 & -1.4802715 & 0.1443072501\\\\\n",
       "\t date                      & -8.125315e-03 & 1.178454e-02 & -0.6894894 & 0.4933128160\\\\\n",
       "\\end{tabular}\n"
      ],
      "text/markdown": [
       "\n",
       "A tibble: 4 × 5\n",
       "\n",
       "| term &lt;chr&gt; | estimate &lt;dbl&gt; | std.error &lt;dbl&gt; | statistic &lt;dbl&gt; | p.value &lt;dbl&gt; |\n",
       "|---|---|---|---|---|\n",
       "| (Intercept)               |  1.595603e+02 | 2.203093e+02 |  0.7242556 | 0.4718711741 |\n",
       "| new_persons_vaccinated    |  9.583246e-07 | 2.543659e-07 |  3.7675050 | 0.0003928682 |\n",
       "| new_hospitalized_patients | -8.991253e-05 | 6.074056e-05 | -1.4802715 | 0.1443072501 |\n",
       "| date                      | -8.125315e-03 | 1.178454e-02 | -0.6894894 | 0.4933128160 |\n",
       "\n"
      ],
      "text/plain": [
       "  term                      estimate      std.error    statistic  p.value     \n",
       "1 (Intercept)                1.595603e+02 2.203093e+02  0.7242556 0.4718711741\n",
       "2 new_persons_vaccinated     9.583246e-07 2.543659e-07  3.7675050 0.0003928682\n",
       "3 new_hospitalized_patients -8.991253e-05 6.074056e-05 -1.4802715 0.1443072501\n",
       "4 date                      -8.125315e-03 1.178454e-02 -0.6894894 0.4933128160"
      ]
     },
     "metadata": {},
     "output_type": "display_data"
    }
   ],
   "source": [
    "# create a mulitple linear regression model with the proposed features\n",
    "final_model <- lm(search_trends_anxiety ~ new_persons_vaccinated + new_hospitalized_patients + date,\n",
    "   data = covid_train_numeric)\n",
    "\n",
    "#create a table with the regression results\n",
    "tidy(final_model)\n"
   ]
  },
  {
   "cell_type": "markdown",
   "metadata": {},
   "source": [
    "<h2>Testing the final model</h2>"
   ]
  },
  {
   "cell_type": "code",
   "execution_count": null,
   "metadata": {},
   "outputs": [],
   "source": [
    "# make sure dates are in numeric form as days since 1970-01-01\n",
    "covid_test_numeric <- covid_test|> \n",
    "  mutate(date = as.numeric(date))\n",
    "# apply the model to predict test data\n",
    "final_model_predictions <- predict(final_model, newdata = covid_test_numeric)\n",
    "\n",
    "# find the RMSE between the model's prediction and the actual values\n",
    "final_model_RMSE = rmse(preds = final_model_predictions,\n",
    "                      actuals = covid_test_numeric$search_trends_anxiety)\n",
    "# print the accuracy rate\n",
    "final_model_RMSE"
   ]
  },
  {
   "cell_type": "markdown",
   "metadata": {},
   "source": [
    "The model has a RMSE of 0.755 "
   ]
  },
  {
   "cell_type": "markdown",
   "metadata": {},
   "source": [
    "## Discussion:\n",
    "- summarize what you found\n",
    "- discuss whether this is what you expected to find?\n",
    "- discuss what impact could such findings have?\n",
    "- discuss what future questions could this lead to?\n"
   ]
  },
  {
   "cell_type": "markdown",
   "metadata": {},
   "source": []
  },
  {
   "cell_type": "markdown",
   "metadata": {},
   "source": [
    "## References:\n",
    "at least 4 citations relevant to the project (format is your choose, just be consistent across the references)."
   ]
  },
  {
   "cell_type": "markdown",
   "metadata": {},
   "source": []
  }
 ],
 "metadata": {
  "kernelspec": {
   "display_name": "R",
   "language": "R",
   "name": "ir"
  },
  "language_info": {
   "codemirror_mode": "r",
   "file_extension": ".r",
   "mimetype": "text/x-r-source",
   "name": "R",
   "pygments_lexer": "r",
   "version": "4.4.2"
  }
 },
 "nbformat": 4,
 "nbformat_minor": 4
}
