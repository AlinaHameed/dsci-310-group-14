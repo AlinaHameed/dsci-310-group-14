{
 "cells": [
  {
   "cell_type": "markdown",
   "metadata": {},
   "source": [
    "# Group 14 Analysis\n",
    "Milestone 1"
   ]
  },
  {
   "cell_type": "markdown",
   "metadata": {},
   "source": [
    "## Summary\n"
   ]
  },
  {
   "cell_type": "markdown",
   "metadata": {},
   "source": [
    "## Introduction:\n",
    "In response to the global COVID-19 pandemic, public health measures such as lockdowns, social distancing, and vaccination drives have significantly impacted daily lives. These unprecedented measures, while essential for managing the health crisis, have led to increased levels of stress and anxiety among populations worldwide (Murphy et al., 2021). Several studies have highlighted the psychological impacts of the pandemic, noting increased incidences of anxiety and other mental health disorders as people cope with isolation, uncertainty, and changes to their normal routines (Prati & Mancini, 2021). Furthermore, the rapid dissemination of information and sometimes misinformation through media channels has played a crucial role in shaping public perceptions and reactions to the pandemic (Neill et al.,2023). This phenomenon, often referred to as the \"infodemic\" has contributed to heightened anxiety levels, driving more people to seek information online about COVID-19 and its implications for their health and safety (Borges do Nascimento et al., 2022) \n",
    "\n",
    "This study aims to analyze how certain factors such as hospitalizations, vaccinations, and confirmed cases correlate with the trends in Google searches for anxiety in the United States. More specifically, we want to find out the following: **How do COVID-19 vaccination rates, hospitalization rates, and confirmed cases relate to anxiety-related search patterns during the pandemic?**\n",
    "\n",
    "To find an answer to this question, we performed an analysis on a dataset of US daily COVID-19 data and Google search trends from January 2020 until now. The dataset contains variables like;\n",
    "- `date`: date of data collection in YYYY/MM/DD format\n",
    "- `search_trends_anxiety`: the prevalence of anxiety in google searches represented by normalized google search popularity\n",
    "- `new_persons_vaccinated`: count of new persons which have received one or more doses \n",
    "- `new_hospitalized_patients`: count of new cases of hospitalize after positive test\n",
    "- `new_confirmed`: count of new cases confirmed after positive test\n",
    "- `new_intensive_care_patients`: count of new covid-19 positive cases admitted to ICU\n",
    "\n",
    "By studying these variables, we are attempting to observe patterns and correlations that can reveal the mental health response of the public to the pandemic.\n"
   ]
  },
  {
   "cell_type": "code",
   "execution_count": 1,
   "metadata": {
    "vscode": {
     "languageId": "r"
    }
   },
   "outputs": [
    {
     "name": "stderr",
     "output_type": "stream",
     "text": [
      "── \u001b[1mAttaching core tidyverse packages\u001b[22m ──────────────────────────────────────────────────────────────────────────────────────────────────────────────── tidyverse 2.0.0 ──\n",
      "\u001b[32m✔\u001b[39m \u001b[34mdplyr    \u001b[39m 1.1.4     \u001b[32m✔\u001b[39m \u001b[34mreadr    \u001b[39m 2.1.5\n",
      "\u001b[32m✔\u001b[39m \u001b[34mforcats  \u001b[39m 1.0.0     \u001b[32m✔\u001b[39m \u001b[34mstringr  \u001b[39m 1.5.1\n",
      "\u001b[32m✔\u001b[39m \u001b[34mggplot2  \u001b[39m 3.5.1     \u001b[32m✔\u001b[39m \u001b[34mtibble   \u001b[39m 3.2.1\n",
      "\u001b[32m✔\u001b[39m \u001b[34mlubridate\u001b[39m 1.9.4     \u001b[32m✔\u001b[39m \u001b[34mtidyr    \u001b[39m 1.3.1\n",
      "\u001b[32m✔\u001b[39m \u001b[34mpurrr    \u001b[39m 1.0.4     \n",
      "── \u001b[1mConflicts\u001b[22m ────────────────────────────────────────────────────────────────────────────────────────────────────────────────────────────────── tidyverse_conflicts() ──\n",
      "\u001b[31m✖\u001b[39m \u001b[34mdplyr\u001b[39m::\u001b[32mfilter()\u001b[39m masks \u001b[34mstats\u001b[39m::filter()\n",
      "\u001b[31m✖\u001b[39m \u001b[34mdplyr\u001b[39m::\u001b[32mlag()\u001b[39m    masks \u001b[34mstats\u001b[39m::lag()\n",
      "\u001b[36mℹ\u001b[39m Use the conflicted package (\u001b[3m\u001b[34m<http://conflicted.r-lib.org/>\u001b[39m\u001b[23m) to force all conflicts to become errors\n",
      "Registered S3 method overwritten by 'GGally':\n",
      "  method from   \n",
      "  +.gg   ggplot2\n",
      "\n",
      "── \u001b[1mAttaching packages\u001b[22m ────────────────────────────────────────────────────────────────────────────────────────────────────────────────────────────── tidymodels 1.3.0 ──\n",
      "\n",
      "\u001b[32m✔\u001b[39m \u001b[34mbroom       \u001b[39m 1.0.7     \u001b[32m✔\u001b[39m \u001b[34mrsample     \u001b[39m 1.2.1\n",
      "\u001b[32m✔\u001b[39m \u001b[34mdials       \u001b[39m 1.4.0     \u001b[32m✔\u001b[39m \u001b[34mtune        \u001b[39m 1.3.0\n",
      "\u001b[32m✔\u001b[39m \u001b[34minfer       \u001b[39m 1.0.7     \u001b[32m✔\u001b[39m \u001b[34mworkflows   \u001b[39m 1.2.0\n",
      "\u001b[32m✔\u001b[39m \u001b[34mmodeldata   \u001b[39m 1.4.0     \u001b[32m✔\u001b[39m \u001b[34mworkflowsets\u001b[39m 1.1.0\n",
      "\u001b[32m✔\u001b[39m \u001b[34mparsnip     \u001b[39m 1.3.0     \u001b[32m✔\u001b[39m \u001b[34myardstick   \u001b[39m 1.3.2\n",
      "\u001b[32m✔\u001b[39m \u001b[34mrecipes     \u001b[39m 1.1.1     \n",
      "\n",
      "── \u001b[1mConflicts\u001b[22m ───────────────────────────────────────────────────────────────────────────────────────────────────────────────────────────────── tidymodels_conflicts() ──\n",
      "\u001b[31m✖\u001b[39m \u001b[34mscales\u001b[39m::\u001b[32mdiscard()\u001b[39m masks \u001b[34mpurrr\u001b[39m::discard()\n",
      "\u001b[31m✖\u001b[39m \u001b[34mdplyr\u001b[39m::\u001b[32mfilter()\u001b[39m   masks \u001b[34mstats\u001b[39m::filter()\n",
      "\u001b[31m✖\u001b[39m \u001b[34mrecipes\u001b[39m::\u001b[32mfixed()\u001b[39m  masks \u001b[34mstringr\u001b[39m::fixed()\n",
      "\u001b[31m✖\u001b[39m \u001b[34mdplyr\u001b[39m::\u001b[32mlag()\u001b[39m      masks \u001b[34mstats\u001b[39m::lag()\n",
      "\u001b[31m✖\u001b[39m \u001b[34myardstick\u001b[39m::\u001b[32mspec()\u001b[39m masks \u001b[34mreadr\u001b[39m::spec()\n",
      "\u001b[31m✖\u001b[39m \u001b[34mrecipes\u001b[39m::\u001b[32mstep()\u001b[39m   masks \u001b[34mstats\u001b[39m::step()\n",
      "\n",
      "\n",
      "Attaching package: 'mltools'\n",
      "\n",
      "\n",
      "The following objects are masked from 'package:yardstick':\n",
      "\n",
      "    mcc, rmse\n",
      "\n",
      "\n",
      "The following object is masked from 'package:tidyr':\n",
      "\n",
      "    replace_na\n",
      "\n",
      "\n"
     ]
    }
   ],
   "source": [
    "library(tidyverse)\n",
    "library(GGally)\n",
    "library(purrr)\n",
    "library(knitr)\n",
    "library(tidymodels)\n",
    "library(leaps)\n",
    "library(mltools)\n",
    "set.seed(310)"
   ]
  },
  {
   "cell_type": "code",
   "execution_count": 2,
   "metadata": {
    "vscode": {
     "languageId": "r"
    }
   },
   "outputs": [
    {
     "name": "stderr",
     "output_type": "stream",
     "text": [
      "\u001b[1mRows: \u001b[22m\u001b[34m991\u001b[39m \u001b[1mColumns: \u001b[22m\u001b[34m564\u001b[39m\n",
      "\u001b[36m──\u001b[39m \u001b[1mColumn specification\u001b[22m \u001b[36m────────────────────────────────────────────────────────────────────────────────────────────────────────────────────────────────────────────────\u001b[39m\n",
      "\u001b[1mDelimiter:\u001b[22m \",\"\n",
      "\u001b[31mchr\u001b[39m   (16): location_key, place_id, wikidata_id, datacommons_id, country_cod...\n",
      "\u001b[32mdbl\u001b[39m  (547): aggregation_level, new_confirmed, new_deceased, new_tested, cumu...\n",
      "\u001b[34mdate\u001b[39m   (1): date\n",
      "\n",
      "\u001b[36mℹ\u001b[39m Use `spec()` to retrieve the full column specification for this data.\n",
      "\u001b[36mℹ\u001b[39m Specify the column types or set `show_col_types = FALSE` to quiet this message.\n"
     ]
    },
    {
     "data": {
      "text/html": [
       "<table class=\"dataframe\">\n",
       "<caption>A tibble: 6 × 564</caption>\n",
       "<thead>\n",
       "\t<tr><th scope=col>location_key</th><th scope=col>date</th><th scope=col>place_id</th><th scope=col>wikidata_id</th><th scope=col>datacommons_id</th><th scope=col>country_code</th><th scope=col>country_name</th><th scope=col>iso_3166_1_alpha_2</th><th scope=col>iso_3166_1_alpha_3</th><th scope=col>aggregation_level</th><th scope=col>⋯</th><th scope=col>search_trends_xeroderma</th><th scope=col>search_trends_xerostomia</th><th scope=col>search_trends_yawn</th><th scope=col>average_temperature_celsius</th><th scope=col>minimum_temperature_celsius</th><th scope=col>maximum_temperature_celsius</th><th scope=col>rainfall_mm</th><th scope=col>snowfall_mm</th><th scope=col>dew_point</th><th scope=col>relative_humidity</th></tr>\n",
       "\t<tr><th scope=col>&lt;chr&gt;</th><th scope=col>&lt;date&gt;</th><th scope=col>&lt;chr&gt;</th><th scope=col>&lt;chr&gt;</th><th scope=col>&lt;chr&gt;</th><th scope=col>&lt;chr&gt;</th><th scope=col>&lt;chr&gt;</th><th scope=col>&lt;chr&gt;</th><th scope=col>&lt;chr&gt;</th><th scope=col>&lt;dbl&gt;</th><th scope=col>⋯</th><th scope=col>&lt;dbl&gt;</th><th scope=col>&lt;dbl&gt;</th><th scope=col>&lt;dbl&gt;</th><th scope=col>&lt;dbl&gt;</th><th scope=col>&lt;dbl&gt;</th><th scope=col>&lt;dbl&gt;</th><th scope=col>&lt;dbl&gt;</th><th scope=col>&lt;dbl&gt;</th><th scope=col>&lt;dbl&gt;</th><th scope=col>&lt;dbl&gt;</th></tr>\n",
       "</thead>\n",
       "<tbody>\n",
       "\t<tr><td>US</td><td>2020-01-01</td><td>ChIJCzYy5IS16lQRQrfeQ5K5Oxw</td><td>Q30</td><td>country/USA</td><td>US</td><td>United States of America</td><td>US</td><td>USA</td><td>0</td><td>⋯</td><td>2.65</td><td>0.36</td><td>0.17</td><td>-0.975309</td><td>-5.913580</td><td>6.314815</td><td>0</td><td>64.77</td><td>-5.790123</td><td>70.01545</td></tr>\n",
       "\t<tr><td>US</td><td>2020-01-02</td><td>ChIJCzYy5IS16lQRQrfeQ5K5Oxw</td><td>Q30</td><td>country/USA</td><td>US</td><td>United States of America</td><td>US</td><td>USA</td><td>0</td><td>⋯</td><td>2.60</td><td>0.39</td><td>0.16</td><td> 2.660494</td><td>-1.648148</td><td>6.709877</td><td>0</td><td>40.64</td><td>-0.759259</td><td>78.35654</td></tr>\n",
       "\t<tr><td>US</td><td>2020-01-03</td><td>ChIJCzYy5IS16lQRQrfeQ5K5Oxw</td><td>Q30</td><td>country/USA</td><td>US</td><td>United States of America</td><td>US</td><td>USA</td><td>0</td><td>⋯</td><td>2.46</td><td>0.38</td><td>0.16</td><td> 1.055556</td><td>-2.648148</td><td>5.703704</td><td>0</td><td>30.48</td><td>-2.475309</td><td>77.39090</td></tr>\n",
       "\t<tr><td>US</td><td>2020-01-04</td><td>ChIJCzYy5IS16lQRQrfeQ5K5Oxw</td><td>Q30</td><td>country/USA</td><td>US</td><td>United States of America</td><td>US</td><td>USA</td><td>0</td><td>⋯</td><td>2.71</td><td>0.38</td><td>0.17</td><td> 0.006173</td><td>-6.617284</td><td>9.197531</td><td>0</td><td>30.48</td><td>-5.407407</td><td>67.23791</td></tr>\n",
       "\t<tr><td>US</td><td>2020-01-05</td><td>ChIJCzYy5IS16lQRQrfeQ5K5Oxw</td><td>Q30</td><td>country/USA</td><td>US</td><td>United States of America</td><td>US</td><td>USA</td><td>0</td><td>⋯</td><td>2.81</td><td>0.38</td><td>0.17</td><td> 5.203704</td><td> 0.543210</td><td>8.580247</td><td>0</td><td>   NA</td><td>-2.790123</td><td>56.43846</td></tr>\n",
       "\t<tr><td>US</td><td>2020-01-06</td><td>ChIJCzYy5IS16lQRQrfeQ5K5Oxw</td><td>Q30</td><td>country/USA</td><td>US</td><td>United States of America</td><td>US</td><td>USA</td><td>0</td><td>⋯</td><td>2.41</td><td>0.41</td><td>0.16</td><td> 0.654321</td><td>-4.919753</td><td>8.148148</td><td>0</td><td>   NA</td><td>-4.993827</td><td>66.21492</td></tr>\n",
       "</tbody>\n",
       "</table>\n"
      ],
      "text/latex": [
       "A tibble: 6 × 564\n",
       "\\begin{tabular}{lllllllllllllllllllll}\n",
       " location\\_key & date & place\\_id & wikidata\\_id & datacommons\\_id & country\\_code & country\\_name & iso\\_3166\\_1\\_alpha\\_2 & iso\\_3166\\_1\\_alpha\\_3 & aggregation\\_level & ⋯ & search\\_trends\\_xeroderma & search\\_trends\\_xerostomia & search\\_trends\\_yawn & average\\_temperature\\_celsius & minimum\\_temperature\\_celsius & maximum\\_temperature\\_celsius & rainfall\\_mm & snowfall\\_mm & dew\\_point & relative\\_humidity\\\\\n",
       " <chr> & <date> & <chr> & <chr> & <chr> & <chr> & <chr> & <chr> & <chr> & <dbl> & ⋯ & <dbl> & <dbl> & <dbl> & <dbl> & <dbl> & <dbl> & <dbl> & <dbl> & <dbl> & <dbl>\\\\\n",
       "\\hline\n",
       "\t US & 2020-01-01 & ChIJCzYy5IS16lQRQrfeQ5K5Oxw & Q30 & country/USA & US & United States of America & US & USA & 0 & ⋯ & 2.65 & 0.36 & 0.17 & -0.975309 & -5.913580 & 6.314815 & 0 & 64.77 & -5.790123 & 70.01545\\\\\n",
       "\t US & 2020-01-02 & ChIJCzYy5IS16lQRQrfeQ5K5Oxw & Q30 & country/USA & US & United States of America & US & USA & 0 & ⋯ & 2.60 & 0.39 & 0.16 &  2.660494 & -1.648148 & 6.709877 & 0 & 40.64 & -0.759259 & 78.35654\\\\\n",
       "\t US & 2020-01-03 & ChIJCzYy5IS16lQRQrfeQ5K5Oxw & Q30 & country/USA & US & United States of America & US & USA & 0 & ⋯ & 2.46 & 0.38 & 0.16 &  1.055556 & -2.648148 & 5.703704 & 0 & 30.48 & -2.475309 & 77.39090\\\\\n",
       "\t US & 2020-01-04 & ChIJCzYy5IS16lQRQrfeQ5K5Oxw & Q30 & country/USA & US & United States of America & US & USA & 0 & ⋯ & 2.71 & 0.38 & 0.17 &  0.006173 & -6.617284 & 9.197531 & 0 & 30.48 & -5.407407 & 67.23791\\\\\n",
       "\t US & 2020-01-05 & ChIJCzYy5IS16lQRQrfeQ5K5Oxw & Q30 & country/USA & US & United States of America & US & USA & 0 & ⋯ & 2.81 & 0.38 & 0.17 &  5.203704 &  0.543210 & 8.580247 & 0 &    NA & -2.790123 & 56.43846\\\\\n",
       "\t US & 2020-01-06 & ChIJCzYy5IS16lQRQrfeQ5K5Oxw & Q30 & country/USA & US & United States of America & US & USA & 0 & ⋯ & 2.41 & 0.41 & 0.16 &  0.654321 & -4.919753 & 8.148148 & 0 &    NA & -4.993827 & 66.21492\\\\\n",
       "\\end{tabular}\n"
      ],
      "text/markdown": [
       "\n",
       "A tibble: 6 × 564\n",
       "\n",
       "| location_key &lt;chr&gt; | date &lt;date&gt; | place_id &lt;chr&gt; | wikidata_id &lt;chr&gt; | datacommons_id &lt;chr&gt; | country_code &lt;chr&gt; | country_name &lt;chr&gt; | iso_3166_1_alpha_2 &lt;chr&gt; | iso_3166_1_alpha_3 &lt;chr&gt; | aggregation_level &lt;dbl&gt; | ⋯ ⋯ | search_trends_xeroderma &lt;dbl&gt; | search_trends_xerostomia &lt;dbl&gt; | search_trends_yawn &lt;dbl&gt; | average_temperature_celsius &lt;dbl&gt; | minimum_temperature_celsius &lt;dbl&gt; | maximum_temperature_celsius &lt;dbl&gt; | rainfall_mm &lt;dbl&gt; | snowfall_mm &lt;dbl&gt; | dew_point &lt;dbl&gt; | relative_humidity &lt;dbl&gt; |\n",
       "|---|---|---|---|---|---|---|---|---|---|---|---|---|---|---|---|---|---|---|---|---|\n",
       "| US | 2020-01-01 | ChIJCzYy5IS16lQRQrfeQ5K5Oxw | Q30 | country/USA | US | United States of America | US | USA | 0 | ⋯ | 2.65 | 0.36 | 0.17 | -0.975309 | -5.913580 | 6.314815 | 0 | 64.77 | -5.790123 | 70.01545 |\n",
       "| US | 2020-01-02 | ChIJCzYy5IS16lQRQrfeQ5K5Oxw | Q30 | country/USA | US | United States of America | US | USA | 0 | ⋯ | 2.60 | 0.39 | 0.16 |  2.660494 | -1.648148 | 6.709877 | 0 | 40.64 | -0.759259 | 78.35654 |\n",
       "| US | 2020-01-03 | ChIJCzYy5IS16lQRQrfeQ5K5Oxw | Q30 | country/USA | US | United States of America | US | USA | 0 | ⋯ | 2.46 | 0.38 | 0.16 |  1.055556 | -2.648148 | 5.703704 | 0 | 30.48 | -2.475309 | 77.39090 |\n",
       "| US | 2020-01-04 | ChIJCzYy5IS16lQRQrfeQ5K5Oxw | Q30 | country/USA | US | United States of America | US | USA | 0 | ⋯ | 2.71 | 0.38 | 0.17 |  0.006173 | -6.617284 | 9.197531 | 0 | 30.48 | -5.407407 | 67.23791 |\n",
       "| US | 2020-01-05 | ChIJCzYy5IS16lQRQrfeQ5K5Oxw | Q30 | country/USA | US | United States of America | US | USA | 0 | ⋯ | 2.81 | 0.38 | 0.17 |  5.203704 |  0.543210 | 8.580247 | 0 |    NA | -2.790123 | 56.43846 |\n",
       "| US | 2020-01-06 | ChIJCzYy5IS16lQRQrfeQ5K5Oxw | Q30 | country/USA | US | United States of America | US | USA | 0 | ⋯ | 2.41 | 0.41 | 0.16 |  0.654321 | -4.919753 | 8.148148 | 0 |    NA | -4.993827 | 66.21492 |\n",
       "\n"
      ],
      "text/plain": [
       "  location_key date       place_id                    wikidata_id\n",
       "1 US           2020-01-01 ChIJCzYy5IS16lQRQrfeQ5K5Oxw Q30        \n",
       "2 US           2020-01-02 ChIJCzYy5IS16lQRQrfeQ5K5Oxw Q30        \n",
       "3 US           2020-01-03 ChIJCzYy5IS16lQRQrfeQ5K5Oxw Q30        \n",
       "4 US           2020-01-04 ChIJCzYy5IS16lQRQrfeQ5K5Oxw Q30        \n",
       "5 US           2020-01-05 ChIJCzYy5IS16lQRQrfeQ5K5Oxw Q30        \n",
       "6 US           2020-01-06 ChIJCzYy5IS16lQRQrfeQ5K5Oxw Q30        \n",
       "  datacommons_id country_code country_name             iso_3166_1_alpha_2\n",
       "1 country/USA    US           United States of America US                \n",
       "2 country/USA    US           United States of America US                \n",
       "3 country/USA    US           United States of America US                \n",
       "4 country/USA    US           United States of America US                \n",
       "5 country/USA    US           United States of America US                \n",
       "6 country/USA    US           United States of America US                \n",
       "  iso_3166_1_alpha_3 aggregation_level ⋯ search_trends_xeroderma\n",
       "1 USA                0                 ⋯ 2.65                   \n",
       "2 USA                0                 ⋯ 2.60                   \n",
       "3 USA                0                 ⋯ 2.46                   \n",
       "4 USA                0                 ⋯ 2.71                   \n",
       "5 USA                0                 ⋯ 2.81                   \n",
       "6 USA                0                 ⋯ 2.41                   \n",
       "  search_trends_xerostomia search_trends_yawn average_temperature_celsius\n",
       "1 0.36                     0.17               -0.975309                  \n",
       "2 0.39                     0.16                2.660494                  \n",
       "3 0.38                     0.16                1.055556                  \n",
       "4 0.38                     0.17                0.006173                  \n",
       "5 0.38                     0.17                5.203704                  \n",
       "6 0.41                     0.16                0.654321                  \n",
       "  minimum_temperature_celsius maximum_temperature_celsius rainfall_mm\n",
       "1 -5.913580                   6.314815                    0          \n",
       "2 -1.648148                   6.709877                    0          \n",
       "3 -2.648148                   5.703704                    0          \n",
       "4 -6.617284                   9.197531                    0          \n",
       "5  0.543210                   8.580247                    0          \n",
       "6 -4.919753                   8.148148                    0          \n",
       "  snowfall_mm dew_point relative_humidity\n",
       "1 64.77       -5.790123 70.01545         \n",
       "2 40.64       -0.759259 78.35654         \n",
       "3 30.48       -2.475309 77.39090         \n",
       "4 30.48       -5.407407 67.23791         \n",
       "5    NA       -2.790123 56.43846         \n",
       "6    NA       -4.993827 66.21492         "
      ]
     },
     "metadata": {},
     "output_type": "display_data"
    }
   ],
   "source": [
    "# loading in the data\n",
    "us_covid <- read_csv(\"data/US.csv\") \n",
    "head(us_covid)"
   ]
  },
  {
   "cell_type": "markdown",
   "metadata": {},
   "source": [
    "<h4>Table 1. Preview of imported US COVID-19 dataset</h4>"
   ]
  },
  {
   "cell_type": "code",
   "execution_count": 3,
   "metadata": {
    "scrolled": true,
    "vscode": {
     "languageId": "r"
    }
   },
   "outputs": [
    {
     "data": {
      "text/html": [
       "<table class=\"dataframe\">\n",
       "<caption>A tibble: 6 × 6</caption>\n",
       "<thead>\n",
       "\t<tr><th scope=col>date</th><th scope=col>search_trends_anxiety</th><th scope=col>new_persons_vaccinated</th><th scope=col>new_hospitalized_patients</th><th scope=col>new_confirmed</th><th scope=col>new_intensive_care_patients</th></tr>\n",
       "\t<tr><th scope=col>&lt;date&gt;</th><th scope=col>&lt;dbl&gt;</th><th scope=col>&lt;dbl&gt;</th><th scope=col>&lt;dbl&gt;</th><th scope=col>&lt;dbl&gt;</th><th scope=col>&lt;dbl&gt;</th></tr>\n",
       "</thead>\n",
       "<tbody>\n",
       "\t<tr><td>2020-12-13</td><td>8.49</td><td> 30635</td><td>13404</td><td>177830</td><td> 75</td></tr>\n",
       "\t<tr><td>2020-12-14</td><td>8.93</td><td>  4534</td><td>13547</td><td>195630</td><td>199</td></tr>\n",
       "\t<tr><td>2020-12-15</td><td>8.34</td><td> 45854</td><td>16191</td><td>197440</td><td>265</td></tr>\n",
       "\t<tr><td>2020-12-16</td><td>7.92</td><td>154789</td><td>15571</td><td>237037</td><td>279</td></tr>\n",
       "\t<tr><td>2020-12-17</td><td>7.70</td><td>266820</td><td>15247</td><td>242528</td><td>248</td></tr>\n",
       "\t<tr><td>2020-12-18</td><td>7.08</td><td>409914</td><td>15269</td><td>233736</td><td>231</td></tr>\n",
       "</tbody>\n",
       "</table>\n"
      ],
      "text/latex": [
       "A tibble: 6 × 6\n",
       "\\begin{tabular}{llllll}\n",
       " date & search\\_trends\\_anxiety & new\\_persons\\_vaccinated & new\\_hospitalized\\_patients & new\\_confirmed & new\\_intensive\\_care\\_patients\\\\\n",
       " <date> & <dbl> & <dbl> & <dbl> & <dbl> & <dbl>\\\\\n",
       "\\hline\n",
       "\t 2020-12-13 & 8.49 &  30635 & 13404 & 177830 &  75\\\\\n",
       "\t 2020-12-14 & 8.93 &   4534 & 13547 & 195630 & 199\\\\\n",
       "\t 2020-12-15 & 8.34 &  45854 & 16191 & 197440 & 265\\\\\n",
       "\t 2020-12-16 & 7.92 & 154789 & 15571 & 237037 & 279\\\\\n",
       "\t 2020-12-17 & 7.70 & 266820 & 15247 & 242528 & 248\\\\\n",
       "\t 2020-12-18 & 7.08 & 409914 & 15269 & 233736 & 231\\\\\n",
       "\\end{tabular}\n"
      ],
      "text/markdown": [
       "\n",
       "A tibble: 6 × 6\n",
       "\n",
       "| date &lt;date&gt; | search_trends_anxiety &lt;dbl&gt; | new_persons_vaccinated &lt;dbl&gt; | new_hospitalized_patients &lt;dbl&gt; | new_confirmed &lt;dbl&gt; | new_intensive_care_patients &lt;dbl&gt; |\n",
       "|---|---|---|---|---|---|\n",
       "| 2020-12-13 | 8.49 |  30635 | 13404 | 177830 |  75 |\n",
       "| 2020-12-14 | 8.93 |   4534 | 13547 | 195630 | 199 |\n",
       "| 2020-12-15 | 8.34 |  45854 | 16191 | 197440 | 265 |\n",
       "| 2020-12-16 | 7.92 | 154789 | 15571 | 237037 | 279 |\n",
       "| 2020-12-17 | 7.70 | 266820 | 15247 | 242528 | 248 |\n",
       "| 2020-12-18 | 7.08 | 409914 | 15269 | 233736 | 231 |\n",
       "\n"
      ],
      "text/plain": [
       "  date       search_trends_anxiety new_persons_vaccinated\n",
       "1 2020-12-13 8.49                   30635                \n",
       "2 2020-12-14 8.93                    4534                \n",
       "3 2020-12-15 8.34                   45854                \n",
       "4 2020-12-16 7.92                  154789                \n",
       "5 2020-12-17 7.70                  266820                \n",
       "6 2020-12-18 7.08                  409914                \n",
       "  new_hospitalized_patients new_confirmed new_intensive_care_patients\n",
       "1 13404                     177830         75                        \n",
       "2 13547                     195630        199                        \n",
       "3 16191                     197440        265                        \n",
       "4 15571                     237037        279                        \n",
       "5 15247                     242528        248                        \n",
       "6 15269                     233736        231                        "
      ]
     },
     "metadata": {},
     "output_type": "display_data"
    }
   ],
   "source": [
    "# select only the interested variables for further analysis\n",
    "us_selected <- us_covid |>\n",
    "               select(date, search_trends_anxiety, new_persons_vaccinated, \n",
    "                       new_hospitalized_patients, new_confirmed, new_intensive_care_patients) |>\n",
    "                drop_na()\n",
    "\n",
    "#inspect first 6 rows of data\n",
    "head(us_selected)"
   ]
  },
  {
   "cell_type": "markdown",
   "metadata": {},
   "source": [
    "<h4>Table 2. Preview of imported US COVID-19 search trend dataset with selected variables of interest </h4>"
   ]
  },
  {
   "cell_type": "code",
   "execution_count": 4,
   "metadata": {
    "vscode": {
     "languageId": "r"
    }
   },
   "outputs": [],
   "source": [
    "# summarise all numeric values with 5 number summary + mean\n",
    "covid_summary <- us_selected %>%\n",
    "  summarise(across(where(is.numeric), list(\n",
    "    Min = min,\n",
    "    Q25 = ~quantile(.x, 0.25),\n",
    "    Mean = mean,\n",
    "    Median = median,\n",
    "    Q75 = ~quantile(.x, 0.75),\n",
    "    Max = max\n",
    "  ), .names = \"{.col}_{.fn}\")) %>%\n",
    "  pivot_longer(cols = everything(), names_to = c(\"Variable\", \"Statistic\"), names_sep = \"_(?=[^_]+$)\") %>%\n",
    "  pivot_wider(names_from = Statistic, values_from = value)"
   ]
  },
  {
   "cell_type": "code",
   "execution_count": 5,
   "metadata": {
    "vscode": {
     "languageId": "r"
    }
   },
   "outputs": [
    {
     "data": {
      "text/html": [
       "<table class=\"dataframe\">\n",
       "<caption>A tibble: 6 × 9</caption>\n",
       "<thead>\n",
       "\t<tr><th scope=col>Variable</th><th scope=col>Min</th><th scope=col>Q25</th><th scope=col>Mean</th><th scope=col>Median</th><th scope=col>Q75</th><th scope=col>Max</th><th scope=col>Observations</th><th scope=col>Missing</th></tr>\n",
       "\t<tr><th scope=col>&lt;chr&gt;</th><th scope=col>&lt;dbl&gt;</th><th scope=col>&lt;dbl&gt;</th><th scope=col>&lt;dbl&gt;</th><th scope=col>&lt;dbl&gt;</th><th scope=col>&lt;dbl&gt;</th><th scope=col>&lt;dbl&gt;</th><th scope=col>&lt;dbl&gt;</th><th scope=col>&lt;dbl&gt;</th></tr>\n",
       "</thead>\n",
       "<tbody>\n",
       "\t<tr><td>search_trends_anxiety      </td><td>    5.5</td><td>     7.17</td><td>7.736588e+00</td><td>     7.79</td><td>      8.29</td><td>     10.9</td><td>986</td><td>  5</td></tr>\n",
       "\t<tr><td>new_persons_vaccinated     </td><td> 4534.0</td><td>371081.00</td><td>7.822666e+05</td><td>798390.00</td><td>1157564.00</td><td>2005480.0</td><td>641</td><td>350</td></tr>\n",
       "\t<tr><td>new_hospitalized_patients  </td><td> 4332.0</td><td>  7275.00</td><td>1.159166e+04</td><td> 12988.00</td><td>  15247.00</td><td>  18104.0</td><td>977</td><td> 14</td></tr>\n",
       "\t<tr><td>new_confirmed              </td><td>39828.0</td><td> 69225.00</td><td>1.443094e+05</td><td>147277.00</td><td> 200308.00</td><td> 286196.0</td><td>988</td><td>  3</td></tr>\n",
       "\t<tr><td>new_intensive_care_patients</td><td>   22.0</td><td>    84.00</td><td>1.418353e+02</td><td>   141.00</td><td>    186.00</td><td>    279.0</td><td>419</td><td>572</td></tr>\n",
       "\t<tr><td>date                       </td><td>18609.0</td><td> 18630.00</td><td>1.865100e+04</td><td> 18651.00</td><td>  18672.00</td><td>  18693.0</td><td>991</td><td>  0</td></tr>\n",
       "</tbody>\n",
       "</table>\n"
      ],
      "text/latex": [
       "A tibble: 6 × 9\n",
       "\\begin{tabular}{lllllllll}\n",
       " Variable & Min & Q25 & Mean & Median & Q75 & Max & Observations & Missing\\\\\n",
       " <chr> & <dbl> & <dbl> & <dbl> & <dbl> & <dbl> & <dbl> & <dbl> & <dbl>\\\\\n",
       "\\hline\n",
       "\t search\\_trends\\_anxiety       &     5.5 &      7.17 & 7.736588e+00 &      7.79 &       8.29 &      10.9 & 986 &   5\\\\\n",
       "\t new\\_persons\\_vaccinated      &  4534.0 & 371081.00 & 7.822666e+05 & 798390.00 & 1157564.00 & 2005480.0 & 641 & 350\\\\\n",
       "\t new\\_hospitalized\\_patients   &  4332.0 &   7275.00 & 1.159166e+04 &  12988.00 &   15247.00 &   18104.0 & 977 &  14\\\\\n",
       "\t new\\_confirmed               & 39828.0 &  69225.00 & 1.443094e+05 & 147277.00 &  200308.00 &  286196.0 & 988 &   3\\\\\n",
       "\t new\\_intensive\\_care\\_patients &    22.0 &     84.00 & 1.418353e+02 &    141.00 &     186.00 &     279.0 & 419 & 572\\\\\n",
       "\t date                        & 18609.0 &  18630.00 & 1.865100e+04 &  18651.00 &   18672.00 &   18693.0 & 991 &   0\\\\\n",
       "\\end{tabular}\n"
      ],
      "text/markdown": [
       "\n",
       "A tibble: 6 × 9\n",
       "\n",
       "| Variable &lt;chr&gt; | Min &lt;dbl&gt; | Q25 &lt;dbl&gt; | Mean &lt;dbl&gt; | Median &lt;dbl&gt; | Q75 &lt;dbl&gt; | Max &lt;dbl&gt; | Observations &lt;dbl&gt; | Missing &lt;dbl&gt; |\n",
       "|---|---|---|---|---|---|---|---|---|\n",
       "| search_trends_anxiety       |     5.5 |      7.17 | 7.736588e+00 |      7.79 |       8.29 |      10.9 | 986 |   5 |\n",
       "| new_persons_vaccinated      |  4534.0 | 371081.00 | 7.822666e+05 | 798390.00 | 1157564.00 | 2005480.0 | 641 | 350 |\n",
       "| new_hospitalized_patients   |  4332.0 |   7275.00 | 1.159166e+04 |  12988.00 |   15247.00 |   18104.0 | 977 |  14 |\n",
       "| new_confirmed               | 39828.0 |  69225.00 | 1.443094e+05 | 147277.00 |  200308.00 |  286196.0 | 988 |   3 |\n",
       "| new_intensive_care_patients |    22.0 |     84.00 | 1.418353e+02 |    141.00 |     186.00 |     279.0 | 419 | 572 |\n",
       "| date                        | 18609.0 |  18630.00 | 1.865100e+04 |  18651.00 |   18672.00 |   18693.0 | 991 |   0 |\n",
       "\n"
      ],
      "text/plain": [
       "                            Variable                    Min     Q25      \n",
       "search_trends_anxiety       search_trends_anxiety           5.5      7.17\n",
       "new_persons_vaccinated      new_persons_vaccinated       4534.0 371081.00\n",
       "new_hospitalized_patients   new_hospitalized_patients    4332.0   7275.00\n",
       "new_confirmed               new_confirmed               39828.0  69225.00\n",
       "new_intensive_care_patients new_intensive_care_patients    22.0     84.00\n",
       "date                        date                        18609.0  18630.00\n",
       "                            Mean         Median    Q75        Max      \n",
       "search_trends_anxiety       7.736588e+00      7.79       8.29      10.9\n",
       "new_persons_vaccinated      7.822666e+05 798390.00 1157564.00 2005480.0\n",
       "new_hospitalized_patients   1.159166e+04  12988.00   15247.00   18104.0\n",
       "new_confirmed               1.443094e+05 147277.00  200308.00  286196.0\n",
       "new_intensive_care_patients 1.418353e+02    141.00     186.00     279.0\n",
       "date                        1.865100e+04  18651.00   18672.00   18693.0\n",
       "                            Observations Missing\n",
       "search_trends_anxiety       986            5    \n",
       "new_persons_vaccinated      641          350    \n",
       "new_hospitalized_patients   977           14    \n",
       "new_confirmed               988            3    \n",
       "new_intensive_care_patients 419          572    \n",
       "date                        991            0    "
      ]
     },
     "metadata": {},
     "output_type": "display_data"
    }
   ],
   "source": [
    "# summarise all date values with 5 number summary + mean by converting to numernic and then convert back\n",
    "dates_day <- as.numeric(us_selected$date)\n",
    "\n",
    "date_summary <- tibble(Variable = c(\"date\"),\n",
    "                      Min = min(dates_day),\n",
    "                      Q25 = quantile(dates_day, 0.25),\n",
    "                      Mean = mean(dates_day),\n",
    "                      Median = median(dates_day),\n",
    "                      Q75 = quantile(dates_day, 0.75),\n",
    "                      Max = max(dates_day))|>\n",
    "                mutate(across(where(is.numeric), as_date))\n",
    "\n",
    "table_summary <- rbind(covid_summary,date_summary)\n",
    "\n",
    "#Count missing values from original dataset\n",
    "us_missing <- us_covid |>\n",
    "  select(search_trends_anxiety, new_persons_vaccinated, new_hospitalized_patients,\n",
    "         new_confirmed, new_intensive_care_patients,date)\n",
    "\n",
    "us_missing_counts <- tibble(Variable = table_summary$Variable,\n",
    "                            Observations = colSums(!is.na(us_missing)),\n",
    "                            Missing = colSums(is.na(us_missing)))\n",
    "\n",
    "#combine together all summary data\n",
    "table_summary_final <- inner_join(table_summary, us_missing_counts, by = \"Variable\")\n",
    "table_summary_final"
   ]
  },
  {
   "cell_type": "markdown",
   "metadata": {},
   "source": [
    "<h4>Table 3 : Summary statistics of the selected variables with missing values counts of the original dataset </h4>\n",
    "\n",
    "> All these missing values had been previously removed using `drop_na()`. This results in our current data having only 85 observations left after removing NA's across all variables."
   ]
  },
  {
   "cell_type": "code",
   "execution_count": 6,
   "metadata": {
    "vscode": {
     "languageId": "r"
    }
   },
   "outputs": [
    {
     "data": {
      "image/png": "[encoded data removed]",
      "text/plain": [
       "plot without title"
      ]
     },
     "metadata": {
      "image/png": {
       "height": 720,
       "width": 960
      }
     },
     "output_type": "display_data"
    }
   ],
   "source": [
    "options(repr.plot.width = 16, repr.plot.height = 12) # change plot sizes to an appropiate size\n",
    "\n",
    "ggpairs(us_selected, aes(alpha = 0.5)) +\n",
    "    theme(text = element_text(size = 13)) +\n",
    "    ggtitle(\"Pairs plot for all variables of interest for exploration\")"
   ]
  },
  {
   "cell_type": "markdown",
   "metadata": {},
   "source": [
    "<h4>Figure 1. Exploratory Analysis of Predictors and their Distribution</h4>\n",
    "\n",
    "> From this pairwise plot, we observe that:\n",
    "> \n",
    "> `new_persons_vaccinated` seems to have a moderate positive linear correlation with anxiety serach trend.\n",
    "> \n",
    "> `new_hospitalized_patients` seems to have a weak negative linear correlation with anxiety serach trend.\n",
    ">\n",
    "> `new_confirmed` seems to have a weak negative linear correlation with anxiety serach trend.\n",
    ">\n",
    "> `date` seems to have a weak positive linear correlation with anxiety serach trend."
   ]
  },
  {
   "cell_type": "code",
   "execution_count": 7,
   "metadata": {
    "vscode": {
     "languageId": "r"
    }
   },
   "outputs": [
    {
     "name": "stderr",
     "output_type": "stream",
     "text": [
      "Warning message:\n",
      "\"\u001b[1m\u001b[22mRemoved 5 rows containing missing values or values outside the scale range (`geom_line()`).\"\n"
     ]
    },
    {
     "data": {
      "image/png": "[encoded data removed]",
      "text/plain": [
       "plot without title"
      ]
     },
     "metadata": {
      "image/png": {
       "height": 540,
       "width": 840
      }
     },
     "output_type": "display_data"
    }
   ],
   "source": [
    "options(repr.plot.width = 14, repr.plot.height = 9) \n",
    "\n",
    "\n",
    "anxiety_time_plot <- ggplot(us_covid, aes(y = search_trends_anxiety, x = date)) +\n",
    "                      geom_line(color = \"cornflower blue\")+\n",
    "                      labs(title = \"Google Searches Regarding Anxiety over Time\",\n",
    "                           x = \"Date\",\n",
    "                           y = \"Normalized Search Volume\") +\n",
    "                        theme(text = element_text(size = 13)) \n",
    "\n",
    "\n",
    "anxiety_time_plot"
   ]
  },
  {
   "cell_type": "markdown",
   "metadata": {},
   "source": [
    "<h4>Figure 2: Time Series Plot of the Normalized Google Search Volume for Anxiety on a given date </h4>\n",
    "\n",
    "> Observations: Anxiety searches seem to be consistent across the COVID-19 pandemic except for 3 peaks around winter of 2020, spring of 2021, and spring of 2022."
   ]
  },
  {
   "cell_type": "markdown",
   "metadata": {},
   "source": [
    "<h2>Picking the best features: Backward Selection </h2>"
   ]
  },
  {
   "cell_type": "code",
   "execution_count": 8,
   "metadata": {},
   "outputs": [],
   "source": [
    "set.seed(310)\n",
    "\n",
    "# split data into training and testing sets:\n",
    "bwd_select_train <- sample_n(us_selected, size = nrow(us_selected) * 0.3,\n",
    "                        replace = FALSE)\n",
    "model_data <- anti_join(us_selected, \n",
    "                        bwd_select_train,\n",
    "                        by = \"date\")\n",
    "covid_train <- sample_n(model_data, size = nrow(model_data) * 0.7,\n",
    "                        replace = FALSE)\n",
    "covid_test <- anti_join(model_data, \n",
    "                        covid_train,\n",
    "                        by = \"date\")\n"
   ]
  },
  {
   "cell_type": "code",
   "execution_count": 9,
   "metadata": {
    "vscode": {
     "languageId": "r"
    }
   },
   "outputs": [],
   "source": [
    "# converts dates into number of days:\n",
    "covid_train_numeric <- covid_train |> \n",
    "                       mutate(date = as.numeric(date))\n",
    "\n",
    "\n",
    "# backward selection:\n",
    "covid_backward_sel <- regsubsets(x = search_trends_anxiety ~ new_persons_vaccinated + \n",
    "                                                             new_hospitalized_patients +\n",
    "                                                             new_confirmed +\n",
    "                                                             new_intensive_care_patients + date,\n",
    "                                  nvmax = 5,\n",
    "                                  data = covid_train_numeric,\n",
    "                                  method = \"backward\",)\n",
    "covid_bwd_summary <- summary(covid_backward_sel)\n"
   ]
  },
  {
   "cell_type": "code",
   "execution_count": 10,
   "metadata": {
    "vscode": {
     "languageId": "r"
    }
   },
   "outputs": [
    {
     "data": {
      "text/html": [
       "<table class=\"dataframe\">\n",
       "<caption>A matrix: 5 × 6 of type lgl</caption>\n",
       "<thead>\n",
       "\t<tr><th></th><th scope=col>(Intercept)</th><th scope=col>new_persons_vaccinated</th><th scope=col>new_hospitalized_patients</th><th scope=col>new_confirmed</th><th scope=col>new_intensive_care_patients</th><th scope=col>date</th></tr>\n",
       "</thead>\n",
       "<tbody>\n",
       "\t<tr><th scope=row>1</th><td>TRUE</td><td>TRUE</td><td>FALSE</td><td>FALSE</td><td>FALSE</td><td>FALSE</td></tr>\n",
       "\t<tr><th scope=row>2</th><td>TRUE</td><td>TRUE</td><td> TRUE</td><td>FALSE</td><td>FALSE</td><td>FALSE</td></tr>\n",
       "\t<tr><th scope=row>3</th><td>TRUE</td><td>TRUE</td><td> TRUE</td><td>FALSE</td><td>FALSE</td><td> TRUE</td></tr>\n",
       "\t<tr><th scope=row>4</th><td>TRUE</td><td>TRUE</td><td> TRUE</td><td>FALSE</td><td> TRUE</td><td> TRUE</td></tr>\n",
       "\t<tr><th scope=row>5</th><td>TRUE</td><td>TRUE</td><td> TRUE</td><td> TRUE</td><td> TRUE</td><td> TRUE</td></tr>\n",
       "</tbody>\n",
       "</table>\n"
      ],
      "text/latex": [
       "A matrix: 5 × 6 of type lgl\n",
       "\\begin{tabular}{r|llllll}\n",
       "  & (Intercept) & new\\_persons\\_vaccinated & new\\_hospitalized\\_patients & new\\_confirmed & new\\_intensive\\_care\\_patients & date\\\\\n",
       "\\hline\n",
       "\t1 & TRUE & TRUE & FALSE & FALSE & FALSE & FALSE\\\\\n",
       "\t2 & TRUE & TRUE &  TRUE & FALSE & FALSE & FALSE\\\\\n",
       "\t3 & TRUE & TRUE &  TRUE & FALSE & FALSE &  TRUE\\\\\n",
       "\t4 & TRUE & TRUE &  TRUE & FALSE &  TRUE &  TRUE\\\\\n",
       "\t5 & TRUE & TRUE &  TRUE &  TRUE &  TRUE &  TRUE\\\\\n",
       "\\end{tabular}\n"
      ],
      "text/markdown": [
       "\n",
       "A matrix: 5 × 6 of type lgl\n",
       "\n",
       "| <!--/--> | (Intercept) | new_persons_vaccinated | new_hospitalized_patients | new_confirmed | new_intensive_care_patients | date |\n",
       "|---|---|---|---|---|---|---|\n",
       "| 1 | TRUE | TRUE | FALSE | FALSE | FALSE | FALSE |\n",
       "| 2 | TRUE | TRUE |  TRUE | FALSE | FALSE | FALSE |\n",
       "| 3 | TRUE | TRUE |  TRUE | FALSE | FALSE |  TRUE |\n",
       "| 4 | TRUE | TRUE |  TRUE | FALSE |  TRUE |  TRUE |\n",
       "| 5 | TRUE | TRUE |  TRUE |  TRUE |  TRUE |  TRUE |\n",
       "\n"
      ],
      "text/plain": [
       "  (Intercept) new_persons_vaccinated new_hospitalized_patients new_confirmed\n",
       "1 TRUE        TRUE                   FALSE                     FALSE        \n",
       "2 TRUE        TRUE                    TRUE                     FALSE        \n",
       "3 TRUE        TRUE                    TRUE                     FALSE        \n",
       "4 TRUE        TRUE                    TRUE                     FALSE        \n",
       "5 TRUE        TRUE                    TRUE                      TRUE        \n",
       "  new_intensive_care_patients date \n",
       "1 FALSE                       FALSE\n",
       "2 FALSE                       FALSE\n",
       "3 FALSE                        TRUE\n",
       "4  TRUE                        TRUE\n",
       "5  TRUE                        TRUE"
      ]
     },
     "metadata": {},
     "output_type": "display_data"
    }
   ],
   "source": [
    "#call only part of the summary table needed to show the model components\n",
    "covid_bwd_summary[[\"which\"]]"
   ]
  },
  {
   "cell_type": "markdown",
   "metadata": {},
   "source": [
    "<h4>Table 4: The features being selected during each step of backward model selection </h4>"
   ]
  },
  {
   "cell_type": "code",
   "execution_count": 11,
   "metadata": {
    "vscode": {
     "languageId": "r"
    }
   },
   "outputs": [
    {
     "data": {
      "text/html": [
       "<table class=\"dataframe\">\n",
       "<caption>A tibble: 5 × 4</caption>\n",
       "<thead>\n",
       "\t<tr><th scope=col>n_input_variables</th><th scope=col>RSQ</th><th scope=col>RSS</th><th scope=col>ADJ.R2</th></tr>\n",
       "\t<tr><th scope=col>&lt;int&gt;</th><th scope=col>&lt;dbl&gt;</th><th scope=col>&lt;dbl&gt;</th><th scope=col>&lt;dbl&gt;</th></tr>\n",
       "</thead>\n",
       "<tbody>\n",
       "\t<tr><td>1</td><td>0.3213248</td><td>16.71652</td><td>0.3043580</td></tr>\n",
       "\t<tr><td>2</td><td>0.3285177</td><td>16.53935</td><td>0.2940828</td></tr>\n",
       "\t<tr><td>3</td><td>0.3561980</td><td>15.85756</td><td>0.3053715</td></tr>\n",
       "\t<tr><td>4</td><td>0.3752592</td><td>15.38806</td><td>0.3077197</td></tr>\n",
       "\t<tr><td>5</td><td>0.3753546</td><td>15.38571</td><td>0.2885983</td></tr>\n",
       "</tbody>\n",
       "</table>\n"
      ],
      "text/latex": [
       "A tibble: 5 × 4\n",
       "\\begin{tabular}{llll}\n",
       " n\\_input\\_variables & RSQ & RSS & ADJ.R2\\\\\n",
       " <int> & <dbl> & <dbl> & <dbl>\\\\\n",
       "\\hline\n",
       "\t 1 & 0.3213248 & 16.71652 & 0.3043580\\\\\n",
       "\t 2 & 0.3285177 & 16.53935 & 0.2940828\\\\\n",
       "\t 3 & 0.3561980 & 15.85756 & 0.3053715\\\\\n",
       "\t 4 & 0.3752592 & 15.38806 & 0.3077197\\\\\n",
       "\t 5 & 0.3753546 & 15.38571 & 0.2885983\\\\\n",
       "\\end{tabular}\n"
      ],
      "text/markdown": [
       "\n",
       "A tibble: 5 × 4\n",
       "\n",
       "| n_input_variables &lt;int&gt; | RSQ &lt;dbl&gt; | RSS &lt;dbl&gt; | ADJ.R2 &lt;dbl&gt; |\n",
       "|---|---|---|---|\n",
       "| 1 | 0.3213248 | 16.71652 | 0.3043580 |\n",
       "| 2 | 0.3285177 | 16.53935 | 0.2940828 |\n",
       "| 3 | 0.3561980 | 15.85756 | 0.3053715 |\n",
       "| 4 | 0.3752592 | 15.38806 | 0.3077197 |\n",
       "| 5 | 0.3753546 | 15.38571 | 0.2885983 |\n",
       "\n"
      ],
      "text/plain": [
       "  n_input_variables RSQ       RSS      ADJ.R2   \n",
       "1 1                 0.3213248 16.71652 0.3043580\n",
       "2 2                 0.3285177 16.53935 0.2940828\n",
       "3 3                 0.3561980 15.85756 0.3053715\n",
       "4 4                 0.3752592 15.38806 0.3077197\n",
       "5 5                 0.3753546 15.38571 0.2885983"
      ]
     },
     "metadata": {},
     "output_type": "display_data"
    }
   ],
   "source": [
    "# summary of each model' performance\n",
    "\n",
    "\n",
    "covid_bwd_summary_df <- tibble(n_input_variables = 1:5,\n",
    "                               RSQ = covid_bwd_summary$rsq,\n",
    "                               RSS = covid_bwd_summary$rss,\n",
    "                               ADJ.R2 = covid_bwd_summary$adjr2)\n",
    "covid_bwd_summary_df"
   ]
  },
  {
   "cell_type": "markdown",
   "metadata": {},
   "source": [
    "<h4>Table 5: RSQ, RSS, and Adjusted R^2 of each model with the number of features used</h4>"
   ]
  },
  {
   "cell_type": "markdown",
   "metadata": {},
   "source": [
    "> To select the best-performing features to use to predict Anxiety google searches during the COVID-19 pandemic, we used backward selection to pick the set of features that would produce the best highest adjusted $R^2$ value. Higher $R^2$ value greater predicative ability of the feature variables for the response variable, thereby giving us the model that explained our data the best.\n",
    ">\n",
    "> As seen in Table 2, a model with 3 features provides the highest adjusted $R^2$ value at 0.305 based on the validation set. This model contains the variables `new_persons_vaccinated`, `new_hospitalized_patients`, and `date`, which provides some evidence for our hypothesis that higher vaccination rates and greater hospitalization may lead to greater anxiety search trend during COVID-19."
   ]
  },
  {
   "cell_type": "markdown",
   "metadata": {},
   "source": [
    "<h2>Creating the final model using selected variables </h2>"
   ]
  },
  {
   "cell_type": "code",
   "execution_count": 12,
   "metadata": {
    "vscode": {
     "languageId": "r"
    }
   },
   "outputs": [
    {
     "data": {
      "text/html": [
       "<table class=\"dataframe\">\n",
       "<caption>A tibble: 4 × 5</caption>\n",
       "<thead>\n",
       "\t<tr><th scope=col>term</th><th scope=col>estimate</th><th scope=col>std.error</th><th scope=col>statistic</th><th scope=col>p.value</th></tr>\n",
       "\t<tr><th scope=col>&lt;chr&gt;</th><th scope=col>&lt;dbl&gt;</th><th scope=col>&lt;dbl&gt;</th><th scope=col>&lt;dbl&gt;</th><th scope=col>&lt;dbl&gt;</th></tr>\n",
       "</thead>\n",
       "<tbody>\n",
       "\t<tr><td>(Intercept)              </td><td> 3.371162e+02</td><td>2.579924e+02</td><td> 1.306690</td><td>0.199171176</td></tr>\n",
       "\t<tr><td>new_persons_vaccinated   </td><td> 1.157871e-06</td><td>3.250227e-07</td><td> 3.562430</td><td>0.001009299</td></tr>\n",
       "\t<tr><td>new_hospitalized_patients</td><td>-9.112393e-05</td><td>6.368275e-05</td><td>-1.430904</td><td>0.160630407</td></tr>\n",
       "\t<tr><td>date                     </td><td>-1.764552e-02</td><td>1.380492e-02</td><td>-1.278205</td><td>0.208929692</td></tr>\n",
       "</tbody>\n",
       "</table>\n"
      ],
      "text/latex": [
       "A tibble: 4 × 5\n",
       "\\begin{tabular}{lllll}\n",
       " term & estimate & std.error & statistic & p.value\\\\\n",
       " <chr> & <dbl> & <dbl> & <dbl> & <dbl>\\\\\n",
       "\\hline\n",
       "\t (Intercept)               &  3.371162e+02 & 2.579924e+02 &  1.306690 & 0.199171176\\\\\n",
       "\t new\\_persons\\_vaccinated    &  1.157871e-06 & 3.250227e-07 &  3.562430 & 0.001009299\\\\\n",
       "\t new\\_hospitalized\\_patients & -9.112393e-05 & 6.368275e-05 & -1.430904 & 0.160630407\\\\\n",
       "\t date                      & -1.764552e-02 & 1.380492e-02 & -1.278205 & 0.208929692\\\\\n",
       "\\end{tabular}\n"
      ],
      "text/markdown": [
       "\n",
       "A tibble: 4 × 5\n",
       "\n",
       "| term &lt;chr&gt; | estimate &lt;dbl&gt; | std.error &lt;dbl&gt; | statistic &lt;dbl&gt; | p.value &lt;dbl&gt; |\n",
       "|---|---|---|---|---|\n",
       "| (Intercept)               |  3.371162e+02 | 2.579924e+02 |  1.306690 | 0.199171176 |\n",
       "| new_persons_vaccinated    |  1.157871e-06 | 3.250227e-07 |  3.562430 | 0.001009299 |\n",
       "| new_hospitalized_patients | -9.112393e-05 | 6.368275e-05 | -1.430904 | 0.160630407 |\n",
       "| date                      | -1.764552e-02 | 1.380492e-02 | -1.278205 | 0.208929692 |\n",
       "\n"
      ],
      "text/plain": [
       "  term                      estimate      std.error    statistic p.value    \n",
       "1 (Intercept)                3.371162e+02 2.579924e+02  1.306690 0.199171176\n",
       "2 new_persons_vaccinated     1.157871e-06 3.250227e-07  3.562430 0.001009299\n",
       "3 new_hospitalized_patients -9.112393e-05 6.368275e-05 -1.430904 0.160630407\n",
       "4 date                      -1.764552e-02 1.380492e-02 -1.278205 0.208929692"
      ]
     },
     "metadata": {},
     "output_type": "display_data"
    }
   ],
   "source": [
    "# create a mulitple linear regression model with the selected features\n",
    "final_model <- lm(search_trends_anxiety ~ new_persons_vaccinated + new_hospitalized_patients + date,\n",
    "                  data = covid_train_numeric)\n",
    "\n",
    "#create a table with the regression results\n",
    "tidy(final_model)"
   ]
  },
  {
   "cell_type": "markdown",
   "metadata": {},
   "source": [
    "<h4>Table 6: Coefficients and intercept of the selected linear model </h4>\n",
    "\n",
    "> Linear formula of our model:\n",
    "> \n",
    "> ***Anxiety search trend =  $1.16 × 10^{-6}$ New vaccination $- 9.11×10^{-5}$ New hospitalization $-0.018$ date $+ 337.11$***\n",
    "> where date is measured in days."
   ]
  },
  {
   "cell_type": "markdown",
   "metadata": {},
   "source": [
    "<h2>Testing the final model</h2>"
   ]
  },
  {
   "cell_type": "code",
   "execution_count": 13,
   "metadata": {
    "vscode": {
     "languageId": "r"
    }
   },
   "outputs": [
    {
     "data": {
      "text/html": [
       "0.658968900203682"
      ],
      "text/latex": [
       "0.658968900203682"
      ],
      "text/markdown": [
       "0.658968900203682"
      ],
      "text/plain": [
       "[1] 0.6589689"
      ]
     },
     "metadata": {},
     "output_type": "display_data"
    }
   ],
   "source": [
    "# make sure dates are in numeric form as days since 1970-01-01\n",
    "covid_test_numeric <- covid_test|> \n",
    "                      mutate(date = as.numeric(date))\n",
    "# apply the model to predict test data\n",
    "final_model_predictions <- predict(final_model, newdata = covid_test_numeric)\n",
    "\n",
    "# find the RMSE between the model's prediction and the actual values\n",
    "final_model_RMSE = rmse(preds = final_model_predictions,\n",
    "                        actuals = covid_test_numeric$search_trends_anxiety)\n",
    "\n",
    "# preview RMSE error rate:\n",
    "final_model_RMSE"
   ]
  },
  {
   "cell_type": "code",
   "execution_count": 14,
   "metadata": {
    "vscode": {
     "languageId": "r"
    }
   },
   "outputs": [
    {
     "data": {
      "text/html": [
       "0.356197996285368"
      ],
      "text/latex": [
       "0.356197996285368"
      ],
      "text/markdown": [
       "0.356197996285368"
      ],
      "text/plain": [
       "[1] 0.356198"
      ]
     },
     "metadata": {},
     "output_type": "display_data"
    }
   ],
   "source": [
    "# preview R-squared:\n",
    "glance(final_model)$r.squared"
   ]
  },
  {
   "cell_type": "markdown",
   "metadata": {},
   "source": [
    "The current model has a root mean square error (RMSE) of 0.659, suggesting a large discrepancy between the actual response value of anxiety search and the predicted response value. The range between the minimum and maximum normalized searches is only about 5.4.\n",
    "\n",
    "At the same time, this model has a $R^2$ of 0.36, which suggests that around 36% of variance in anxiety Google search trend during the COVID-19 pandemic is explained conjointly by new vaccination, new hospitalization, and progression of time.\n"
   ]
  },
  {
   "cell_type": "markdown",
   "metadata": {},
   "source": [
    "## Discussion:\n",
    "\n",
    "### Summary of Findings\n",
    "\n",
    "Our results discovered that COVID-19 pandemic-anxiety-related search patterns were weakly influenced by the vaccination rate, hospital rates, and the time elapsed. The vaccination rate increase was strongly correlated with anxiety-related search increases, but growing hospital rates were correlated with decreased anxiety searches. The model's 36% variance explanation suggests the possibility that additional independent variables beyond what was measured within the database may also contribute to a massive amount of this variance.\n",
    "\n",
    "### Expected vs. Actual Results\n",
    "\n",
    "The small but positive relationship between vaccination rates and anxiety searches went against our expectations as one would expect higher vaccination rates would reduce anxiety. However, it could be an expression of public concern regarding side effects of vaccinations or the overall impact of vaccination campaigns on society. The negative relationship between hospitalization rates and anxiety searches aligns with the hypothesis that serious COVID-19 complications will generate fewer online searches because of increased stress or disengagement.\n",
    "\n",
    "### Impact of Findings\n",
    "\n",
    "These are indicators of the complex interactions between public and mental health interventions during a pandemic. Knowledge of these interactions could allow policymakers to develop improved communication strategies for reducing worry and anxiety in the public.\n",
    "\n",
    "### Future Questions\n",
    "\n",
    "- Future research areas might include:\n",
    "- The role of media coverage in producing anxiety-supportive search trends.\n",
    "- The impact of other measures of mental health, depression or stress, on searching.\n",
    "\n"
   ]
  },
  {
   "cell_type": "markdown",
   "metadata": {},
   "source": [
    "## References:\n",
    "\n",
    "GoogleCloudPlatform. (2021). *covid-19-open-data* [Source code]. GitHub. Retrieved October 10, 2023, from https://github.com/GoogleCloudPlatform/covid-19-open-data\n",
    "\n",
    "Murphy, L., Markey, K., O'Donnell, C., Moloney, M., & Doody, O. (2021). The impact of the COVID-19 pandemic and its related restrictions on people with pre-existent mental health conditions: A scoping review. Archives of Psychiatric Nursing, 35(4), 375-394. https://doi.org/10.1016/j.apnu.2021.05.002 \n",
    "\n",
    "Prati, G., & Mancini, A. D. (2021). The psychological impact of COVID-19 pandemic lockdowns: A review and meta-analysis of longitudinal studies and natural experiments. Psychological Medicine, 51(2), 201-211. https://doi.org/10.1017/S0033291721000015\n",
    "\n",
    "Neill, R. D., Blair, C., Best, P., McGlinchey, E., & Armour, C. (2023). Media consumption and mental health during COVID-19 lockdown: A UK cross-sectional study across England, Wales, Scotland, and Northern Ireland. Z Gesundh Wiss, 31(3), 435-443. https://doi.org/10.1007/s10389-021-01506-0\n",
    "\n",
    "Borges do Nascimento, I. J., Pizarro, A. B., Almeida, J. M., Azzopardi-Muscat, N., Gonçalves, M. A., Björklund, M., & Novillo-Ortiz, D. (2022). Infodemics and health misinformation: A systematic review of reviews. Bulletin of the World Health Organization, 100(9), 544-561. https://doi.org/10.2471/BLT.21.287654\n",
    "\n"
   ]
  }
 ],
 "metadata": {
  "kernelspec": {
   "display_name": "R",
   "language": "R",
   "name": "ir"
  },
  "language_info": {
   "codemirror_mode": "r",
   "file_extension": ".r",
   "mimetype": "text/x-r-source",
   "name": "R",
   "pygments_lexer": "r",
   "version": "4.4.2"
  }
 },
 "nbformat": 4,
 "nbformat_minor": 4
}
